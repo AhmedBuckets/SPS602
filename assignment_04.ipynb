{
  "nbformat": 4,
  "nbformat_minor": 0,
  "metadata": {
    "colab": {
      "provenance": [],
      "authorship_tag": "ABX9TyOr69FljgGm720B0ija94++",
      "include_colab_link": true
    },
    "kernelspec": {
      "name": "python3",
      "display_name": "Python 3"
    },
    "language_info": {
      "name": "python"
    }
  },
  "cells": [
    {
      "cell_type": "markdown",
      "metadata": {
        "id": "view-in-github",
        "colab_type": "text"
      },
      "source": [
        "<a href=\"https://colab.research.google.com/github/AhmedBuckets/SPS602/blob/main/assignment_04.ipynb\" target=\"_parent\"><img src=\"https://colab.research.google.com/assets/colab-badge.svg\" alt=\"Open In Colab\"/></a>"
      ]
    },
    {
      "cell_type": "code",
      "execution_count": 6,
      "metadata": {
        "id": "jZDWnR3nlH-N"
      },
      "outputs": [],
      "source": [
        "class BankAccount:\n",
        "    def __init__(self, bankname, firstname, lastname, balance=0):\n",
        "        self.bankname = bankname\n",
        "        self.firstname = firstname\n",
        "        self.lastname = lastname\n",
        "        self.balance = balance\n",
        "\n",
        "    def deposit(self, amount):\n",
        "        self.balance += amount\n",
        "        return self.balance\n",
        "\n",
        "    def withdrawal(self, amount):\n",
        "        if amount > self.balance:\n",
        "            return \"Withdrawal amount exceeds the available balance.\"\n",
        "        else:\n",
        "            self.balance -= amount\n",
        "            return self.balance\n",
        "\n",
        "    def __str__(self):\n",
        "        return f\"Bank Name: {self.bankname}\\nOwner Name: {self.firstname} {self.lastname}\\nCurrent Balance: {self.balance}\""
      ]
    },
    {
      "cell_type": "code",
      "source": [
        "# Create an account at 'Buckets Bank' with a default balance of 0\n",
        "account = BankAccount('Buckets Bank', 'Bucket', 'Boi')\n",
        "\n",
        "# Print initial account details\n",
        "print(account)\n",
        "\n",
        "# Make a deposit of 1000\n",
        "account.deposit(1000)\n",
        "print(account)  # Should print updated balance\n",
        "\n",
        "# Attempt to withdraw 500\n",
        "account.withdrawal(500)\n",
        "print(account)  # Should print updated balance\n",
        "\n",
        "# Attempt to withdraw 600 - should not be allowed as it exceeds current balance\n",
        "print(account.withdrawal(600))  # Should print a warning message"
      ],
      "metadata": {
        "colab": {
          "base_uri": "https://localhost:8080/"
        },
        "id": "ElEtv8IdlShl",
        "outputId": "15382e65-51bd-4304-ee71-9c14a367791f"
      },
      "execution_count": 7,
      "outputs": [
        {
          "output_type": "stream",
          "name": "stdout",
          "text": [
            "Bank Name: Buckets Bank\n",
            "Owner Name: Bucket Boi\n",
            "Current Balance: 0\n",
            "Bank Name: Buckets Bank\n",
            "Owner Name: Bucket Boi\n",
            "Current Balance: 1000\n",
            "Bank Name: Buckets Bank\n",
            "Owner Name: Bucket Boi\n",
            "Current Balance: 500\n",
            "Withdrawal amount exceeds the available balance.\n"
          ]
        }
      ]
    },
    {
      "cell_type": "code",
      "source": [
        "import math\n",
        "\n",
        "class Box:\n",
        "    def __init__(self, length, width):\n",
        "        self.length = length\n",
        "        self.width = width\n",
        "\n",
        "    def render(self):\n",
        "        for i in range(self.length):\n",
        "            print('*' * self.width)\n",
        "\n",
        "    def invert(self):\n",
        "        self.length, self.width = self.width, self.length\n",
        "\n",
        "    def get_area(self):\n",
        "        return self.length * self.width\n",
        "\n",
        "    def get_perimeter(self):\n",
        "        return 2 * (self.length + self.width)\n",
        "\n",
        "    def double(self):\n",
        "        self.length *= 2\n",
        "        self.width *= 2\n",
        "\n",
        "    def __eq__(self, other):\n",
        "        return self.length == other.length and self.width == other.width\n",
        "\n",
        "    def print_dim(self):\n",
        "        print(f\"Length: {self.length}, Width: {self.width}\")\n",
        "\n",
        "    def get_dim(self):\n",
        "        return self.length, self.width\n",
        "\n",
        "    def combine(self, other):\n",
        "        self.length += other.length\n",
        "        self.width += other.width\n",
        "\n",
        "    def get_hypot(self):\n",
        "        return math.sqrt(self.length ** 2 + self.width ** 2)\n",
        "\n",
        "# Instantiate 3 boxes\n",
        "box1 = Box(5, 10)\n",
        "box2 = Box(3, 4)\n",
        "box3 = Box(5, 10)\n",
        "\n",
        "# Print dimension info\n",
        "box1.print_dim()\n",
        "box2.print_dim()\n",
        "box3.print_dim()\n",
        "\n",
        "# Equality checks\n",
        "print(box1 == box2)\n",
        "print(box1 == box3)\n",
        "\n",
        "# Combine box3 into box1\n",
        "box1.combine(box3)\n",
        "\n",
        "# Double the size of box2\n",
        "box2.double()\n",
        "box2.print_dim()\n",
        "\n",
        "# Combine box2 into box1\n",
        "box1.combine(box2)\n",
        "box1.print_dim()"
      ],
      "metadata": {
        "colab": {
          "base_uri": "https://localhost:8080/"
        },
        "id": "7kaGKA6NlVhL",
        "outputId": "58dc75dd-6fc2-4556-bdce-53f995e31f1d"
      },
      "execution_count": 12,
      "outputs": [
        {
          "output_type": "stream",
          "name": "stdout",
          "text": [
            "Length: 5, Width: 10\n",
            "Length: 3, Width: 4\n",
            "Length: 5, Width: 10\n",
            "False\n",
            "True\n",
            "Length: 6, Width: 8\n",
            "Length: 16, Width: 28\n"
          ]
        }
      ]
    },
    {
      "cell_type": "code",
      "source": [],
      "metadata": {
        "id": "a_O1QOaVl_Sz"
      },
      "execution_count": null,
      "outputs": []
    }
  ]
}