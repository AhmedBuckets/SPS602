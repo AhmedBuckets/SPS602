{
  "cells": [
    {
      "cell_type": "markdown",
      "metadata": {
        "id": "view-in-github",
        "colab_type": "text"
      },
      "source": [
        "<a href=\"https://colab.research.google.com/github/AhmedBuckets/SPS602/blob/main/assignment_7.ipynb\" target=\"_parent\"><img src=\"https://colab.research.google.com/assets/colab-badge.svg\" alt=\"Open In Colab\"/></a>"
      ]
    },
    {
      "cell_type": "markdown",
      "source": [
        "Imports Data Exploration"
      ],
      "metadata": {
        "id": "jrQJiNxq398r"
      }
    },
    {
      "cell_type": "code",
      "source": [
        "import pandas as pd\n",
        "from pandas.api.types import is_numeric_dtype\n"
      ],
      "metadata": {
        "id": "6W-gQO3D2v0E"
      },
      "execution_count": 21,
      "outputs": []
    },
    {
      "cell_type": "code",
      "source": [
        "#I've uploaded the file to my github page and will use read_csv from the pandas library to access it\n",
        "df = pd.read_csv('https://raw.githubusercontent.com/AhmedBuckets/SPS602/main/Phishing_Legitimate_full.csv')"
      ],
      "metadata": {
        "id": "mpwShLXn20Z-"
      },
      "execution_count": 22,
      "outputs": []
    },
    {
      "cell_type": "markdown",
      "source": [
        "The data set is very wide - 48 features. It ia also meant for machine learning, \n",
        "and so 5000 rows contain data about legitimate webpages, while the other 5000 contain data from phishing websites. There are a lot of features so I will focus on one for summary stats: URL Length."
      ],
      "metadata": {
        "id": "3HpukR3-4mCw"
      }
    },
    {
      "cell_type": "code",
      "source": [
        "summary_stats = df.groupby(\"CLASS_LABEL\")[\"UrlLength\"].describe()\n",
        "print(summary_stats)"
      ],
      "metadata": {
        "id": "Ph77OwJt23t_",
        "outputId": "f6353734-0bcd-40c4-8ca4-d68339a4f7de",
        "colab": {
          "base_uri": "https://localhost:8080/"
        }
      },
      "execution_count": 23,
      "outputs": [
        {
          "output_type": "stream",
          "name": "stdout",
          "text": [
            "              count     mean        std   min   25%   50%   75%    max\n",
            "CLASS_LABEL                                                           \n",
            "0            5000.0  72.7498  30.837837  12.0  51.0  68.0  90.0  218.0\n",
            "1            5000.0  67.7784  35.552610  19.0  46.0  58.0  75.0  253.0\n"
          ]
        }
      ]
    },
    {
      "cell_type": "markdown",
      "source": [
        "This line of code groups by the class label column, which labes each row with a 0 or 1 based on whether or not the row represents a phishing website. I then select only the column I care about, UrlLength. I then run describe on each resulting data set - technically two \"group by\" sequences. This will get summary stats on the column UrlLength but only after grouping by the class label so we can compare how the URL lengths compare accross the phisiing/non-phishing websites. In this case it seems there is a small difference with the 0's, representing phishing, being a little longer. "
      ],
      "metadata": {
        "id": "7l-2rYv95Oeu"
      }
    },
    {
      "cell_type": "markdown",
      "source": [
        "### **Clean Up**"
      ],
      "metadata": {
        "id": "yuqRZRkF5j7m"
      }
    },
    {
      "cell_type": "markdown",
      "source": [
        "I chose a few columns out of the 48 to narrow down the data further. "
      ],
      "metadata": {
        "id": "4cr3IHmb5SmQ"
      }
    },
    {
      "cell_type": "code",
      "source": [
        "columns_i_want = [\"NumDots\",\"NumDash\", \"InsecureForms\", \"PctNullSelfRedirectHyperlinks\", \"FrequentDomainNameMismatch\", \"SubmitInfoToEmail\", \"PctExtNullSelfRedirectHyperlinksRT\", \"CLASS_LABEL\"]\n",
        "\n",
        "my_set = df[columns_i_want]\n",
        "print(my_set)"
      ],
      "metadata": {
        "id": "DsCTDFcH270D",
        "outputId": "42882b8b-7dda-4b32-d19e-25275d17b8cb",
        "colab": {
          "base_uri": "https://localhost:8080/"
        }
      },
      "execution_count": 24,
      "outputs": [
        {
          "output_type": "stream",
          "name": "stdout",
          "text": [
            "      NumDots  NumDash  InsecureForms  PctNullSelfRedirectHyperlinks  \\\n",
            "0           3        0              1                       0.000000   \n",
            "1           3        0              1                       0.000000   \n",
            "2           3        0              1                       0.000000   \n",
            "3           3        1              1                       0.000000   \n",
            "4           3        0              0                       0.000000   \n",
            "...       ...      ...            ...                            ...   \n",
            "9995        3        0              1                       0.000000   \n",
            "9996        2        1              1                       0.129032   \n",
            "9997        2        0              1                       0.056338   \n",
            "9998        3        0              1                       0.000000   \n",
            "9999        3        3              1                       0.004717   \n",
            "\n",
            "      FrequentDomainNameMismatch  SubmitInfoToEmail  \\\n",
            "0                              0                  0   \n",
            "1                              0                  0   \n",
            "2                              0                  0   \n",
            "3                              1                  1   \n",
            "4                              1                  0   \n",
            "...                          ...                ...   \n",
            "9995                           0                  0   \n",
            "9996                           0                  0   \n",
            "9997                           0                  0   \n",
            "9998                           0                  0   \n",
            "9999                           0                  0   \n",
            "\n",
            "      PctExtNullSelfRedirectHyperlinksRT  CLASS_LABEL  \n",
            "0                                      1            1  \n",
            "1                                      1            1  \n",
            "2                                      0            1  \n",
            "3                                     -1            1  \n",
            "4                                     -1            1  \n",
            "...                                  ...          ...  \n",
            "9995                                   1            0  \n",
            "9996                                   1            0  \n",
            "9997                                   1            0  \n",
            "9998                                   1            0  \n",
            "9999                                   1            0  \n",
            "\n",
            "[10000 rows x 8 columns]\n"
          ]
        }
      ]
    },
    {
      "cell_type": "code",
      "source": [
        "#1. Modify multiple column names:\n",
        "my_set.rename(columns={\"NumDash\": \"num_dashes\", \"InsecureForms\": \"insecure_forms\", \"FrequentDomainNameMismatch\": \"freq_domain_name_mismatch\", \"PctNullSelfRedirectHyperlinks\": \"pct_null_self_redirect\", \"SubmitInfoToEmail\": \"submit_info_to_email\", \"PctExtNullSelfRedirectHyperlinksRT\": \"pct_null_self_redirect_rt\", \"CLASS_LABEL\": \"label\"}, inplace=True)\n",
        "print(my_set)"
      ],
      "metadata": {
        "id": "pf9BxjqW277F",
        "outputId": "624e18c2-5bbd-4bef-ddb0-30715d478658",
        "colab": {
          "base_uri": "https://localhost:8080/"
        }
      },
      "execution_count": 25,
      "outputs": [
        {
          "output_type": "stream",
          "name": "stdout",
          "text": [
            "      NumDots  num_dashes  insecure_forms  pct_null_self_redirect  \\\n",
            "0           3           0               1                0.000000   \n",
            "1           3           0               1                0.000000   \n",
            "2           3           0               1                0.000000   \n",
            "3           3           1               1                0.000000   \n",
            "4           3           0               0                0.000000   \n",
            "...       ...         ...             ...                     ...   \n",
            "9995        3           0               1                0.000000   \n",
            "9996        2           1               1                0.129032   \n",
            "9997        2           0               1                0.056338   \n",
            "9998        3           0               1                0.000000   \n",
            "9999        3           3               1                0.004717   \n",
            "\n",
            "      freq_domain_name_mismatch  submit_info_to_email  \\\n",
            "0                             0                     0   \n",
            "1                             0                     0   \n",
            "2                             0                     0   \n",
            "3                             1                     1   \n",
            "4                             1                     0   \n",
            "...                         ...                   ...   \n",
            "9995                          0                     0   \n",
            "9996                          0                     0   \n",
            "9997                          0                     0   \n",
            "9998                          0                     0   \n",
            "9999                          0                     0   \n",
            "\n",
            "      pct_null_self_redirect_rt  label  \n",
            "0                             1      1  \n",
            "1                             1      1  \n",
            "2                             0      1  \n",
            "3                            -1      1  \n",
            "4                            -1      1  \n",
            "...                         ...    ...  \n",
            "9995                          1      0  \n",
            "9996                          1      0  \n",
            "9997                          1      0  \n",
            "9998                          1      0  \n",
            "9999                          1      0  \n",
            "\n",
            "[10000 rows x 8 columns]\n"
          ]
        },
        {
          "output_type": "stream",
          "name": "stderr",
          "text": [
            "<ipython-input-25-2ce568727f5c>:2: SettingWithCopyWarning: \n",
            "A value is trying to be set on a copy of a slice from a DataFrame\n",
            "\n",
            "See the caveats in the documentation: https://pandas.pydata.org/pandas-docs/stable/user_guide/indexing.html#returning-a-view-versus-a-copy\n",
            "  my_set.rename(columns={\"NumDash\": \"num_dashes\", \"InsecureForms\": \"insecure_forms\", \"FrequentDomainNameMismatch\": \"freq_domain_name_mismatch\", \"PctNullSelfRedirectHyperlinks\": \"pct_null_self_redirect\", \"SubmitInfoToEmail\": \"submit_info_to_email\", \"PctExtNullSelfRedirectHyperlinksRT\": \"pct_null_self_redirect_rt\", \"CLASS_LABEL\": \"label\"}, inplace=True)\n"
          ]
        }
      ]
    },
    {
      "cell_type": "code",
      "source": [
        "#2. Convert a column to a different data type:\n",
        "my_set.info()\n",
        "my_set[\"pct_null_self_redirect_rt\"] = my_set[\"pct_null_self_redirect_rt\"].astype(float)\n",
        "my_set.info()"
      ],
      "metadata": {
        "id": "I1z4Gbo9279u",
        "outputId": "727581a7-164a-4323-f5d3-6a8f40056d9a",
        "colab": {
          "base_uri": "https://localhost:8080/"
        }
      },
      "execution_count": 26,
      "outputs": [
        {
          "output_type": "stream",
          "name": "stdout",
          "text": [
            "<class 'pandas.core.frame.DataFrame'>\n",
            "RangeIndex: 10000 entries, 0 to 9999\n",
            "Data columns (total 8 columns):\n",
            " #   Column                     Non-Null Count  Dtype  \n",
            "---  ------                     --------------  -----  \n",
            " 0   NumDots                    10000 non-null  int64  \n",
            " 1   num_dashes                 10000 non-null  int64  \n",
            " 2   insecure_forms             10000 non-null  int64  \n",
            " 3   pct_null_self_redirect     10000 non-null  float64\n",
            " 4   freq_domain_name_mismatch  10000 non-null  int64  \n",
            " 5   submit_info_to_email       10000 non-null  int64  \n",
            " 6   pct_null_self_redirect_rt  10000 non-null  int64  \n",
            " 7   label                      10000 non-null  int64  \n",
            "dtypes: float64(1), int64(7)\n",
            "memory usage: 625.1 KB\n",
            "<class 'pandas.core.frame.DataFrame'>\n",
            "RangeIndex: 10000 entries, 0 to 9999\n",
            "Data columns (total 8 columns):\n",
            " #   Column                     Non-Null Count  Dtype  \n",
            "---  ------                     --------------  -----  \n",
            " 0   NumDots                    10000 non-null  int64  \n",
            " 1   num_dashes                 10000 non-null  int64  \n",
            " 2   insecure_forms             10000 non-null  int64  \n",
            " 3   pct_null_self_redirect     10000 non-null  float64\n",
            " 4   freq_domain_name_mismatch  10000 non-null  int64  \n",
            " 5   submit_info_to_email       10000 non-null  int64  \n",
            " 6   pct_null_self_redirect_rt  10000 non-null  float64\n",
            " 7   label                      10000 non-null  int64  \n",
            "dtypes: float64(2), int64(6)\n",
            "memory usage: 625.1 KB\n"
          ]
        },
        {
          "output_type": "stream",
          "name": "stderr",
          "text": [
            "<ipython-input-26-10c4de5bb870>:3: SettingWithCopyWarning: \n",
            "A value is trying to be set on a copy of a slice from a DataFrame.\n",
            "Try using .loc[row_indexer,col_indexer] = value instead\n",
            "\n",
            "See the caveats in the documentation: https://pandas.pydata.org/pandas-docs/stable/user_guide/indexing.html#returning-a-view-versus-a-copy\n",
            "  my_set[\"pct_null_self_redirect_rt\"] = my_set[\"pct_null_self_redirect_rt\"].astype(float)\n"
          ]
        }
      ]
    },
    {
      "cell_type": "code",
      "source": [
        "#3. Fill missing values with a specific value:\n",
        "# Normally I would use my_set[\"column_name\"].fillna(0, inplace=True) to fill in missing data, however I checked it out and the columns that I chose are not missing any.\n",
        "missing_mask = my_set.isna()\n",
        "missing_count = missing_mask.sum()\n",
        "print(missing_count)"
      ],
      "metadata": {
        "id": "W909klAW28AW",
        "outputId": "5d125fd4-a183-40ac-81f2-48af2b70a106",
        "colab": {
          "base_uri": "https://localhost:8080/"
        }
      },
      "execution_count": 27,
      "outputs": [
        {
          "output_type": "stream",
          "name": "stdout",
          "text": [
            "NumDots                      0\n",
            "num_dashes                   0\n",
            "insecure_forms               0\n",
            "pct_null_self_redirect       0\n",
            "freq_domain_name_mismatch    0\n",
            "submit_info_to_email         0\n",
            "pct_null_self_redirect_rt    0\n",
            "label                        0\n",
            "dtype: int64\n"
          ]
        }
      ]
    },
    {
      "cell_type": "markdown",
      "source": [
        "I decided to \"summarize\" the \"percent_null_self_redirect\" columns into one single column by averaging them. "
      ],
      "metadata": {
        "id": "iq3hoJfQ5yrt"
      }
    },
    {
      "cell_type": "code",
      "source": [
        "#4. Create a new column based on existing columns or calculations:\n",
        "my_set[\"pct_redirect_mean\"] = (my_set[\"pct_null_self_redirect\"] + my_set[\"pct_null_self_redirect_rt\"])/2\n",
        "print(my_set)"
      ],
      "metadata": {
        "id": "_BoPeQBA3QwA",
        "outputId": "c2ca0b95-505b-4768-97d6-7c20415beee9",
        "colab": {
          "base_uri": "https://localhost:8080/"
        }
      },
      "execution_count": 28,
      "outputs": [
        {
          "output_type": "stream",
          "name": "stdout",
          "text": [
            "      NumDots  num_dashes  insecure_forms  pct_null_self_redirect  \\\n",
            "0           3           0               1                0.000000   \n",
            "1           3           0               1                0.000000   \n",
            "2           3           0               1                0.000000   \n",
            "3           3           1               1                0.000000   \n",
            "4           3           0               0                0.000000   \n",
            "...       ...         ...             ...                     ...   \n",
            "9995        3           0               1                0.000000   \n",
            "9996        2           1               1                0.129032   \n",
            "9997        2           0               1                0.056338   \n",
            "9998        3           0               1                0.000000   \n",
            "9999        3           3               1                0.004717   \n",
            "\n",
            "      freq_domain_name_mismatch  submit_info_to_email  \\\n",
            "0                             0                     0   \n",
            "1                             0                     0   \n",
            "2                             0                     0   \n",
            "3                             1                     1   \n",
            "4                             1                     0   \n",
            "...                         ...                   ...   \n",
            "9995                          0                     0   \n",
            "9996                          0                     0   \n",
            "9997                          0                     0   \n",
            "9998                          0                     0   \n",
            "9999                          0                     0   \n",
            "\n",
            "      pct_null_self_redirect_rt  label  pct_redirect_mean  \n",
            "0                           1.0      1           0.500000  \n",
            "1                           1.0      1           0.500000  \n",
            "2                           0.0      1           0.000000  \n",
            "3                          -1.0      1          -0.500000  \n",
            "4                          -1.0      1          -0.500000  \n",
            "...                         ...    ...                ...  \n",
            "9995                        1.0      0           0.500000  \n",
            "9996                        1.0      0           0.564516  \n",
            "9997                        1.0      0           0.528169  \n",
            "9998                        1.0      0           0.500000  \n",
            "9999                        1.0      0           0.502358  \n",
            "\n",
            "[10000 rows x 9 columns]\n"
          ]
        },
        {
          "output_type": "stream",
          "name": "stderr",
          "text": [
            "<ipython-input-28-630d8dcbbd5d>:2: SettingWithCopyWarning: \n",
            "A value is trying to be set on a copy of a slice from a DataFrame.\n",
            "Try using .loc[row_indexer,col_indexer] = value instead\n",
            "\n",
            "See the caveats in the documentation: https://pandas.pydata.org/pandas-docs/stable/user_guide/indexing.html#returning-a-view-versus-a-copy\n",
            "  my_set[\"pct_redirect_mean\"] = (my_set[\"pct_null_self_redirect\"] + my_set[\"pct_null_self_redirect_rt\"])/2\n"
          ]
        }
      ]
    },
    {
      "cell_type": "markdown",
      "source": [
        "Since I summarized the two columns, I decided to drop both as well as the NumDots column which I don't think is relevant on second thought. "
      ],
      "metadata": {
        "id": "JvHW0X7_6fpE"
      }
    },
    {
      "cell_type": "code",
      "source": [
        "#5. Drop column(s) from your dataset:\n",
        "my_set.drop(columns=[\"NumDots\", \"pct_null_self_redirect\", \"pct_null_self_redirect_rt\"], inplace=True)\n",
        "print(my_set)"
      ],
      "metadata": {
        "id": "lnfXBsVC3TQi",
        "outputId": "998e12d4-c27e-4bec-992e-64781708680a",
        "colab": {
          "base_uri": "https://localhost:8080/"
        }
      },
      "execution_count": 29,
      "outputs": [
        {
          "output_type": "stream",
          "name": "stdout",
          "text": [
            "      num_dashes  insecure_forms  freq_domain_name_mismatch  \\\n",
            "0              0               1                          0   \n",
            "1              0               1                          0   \n",
            "2              0               1                          0   \n",
            "3              1               1                          1   \n",
            "4              0               0                          1   \n",
            "...          ...             ...                        ...   \n",
            "9995           0               1                          0   \n",
            "9996           1               1                          0   \n",
            "9997           0               1                          0   \n",
            "9998           0               1                          0   \n",
            "9999           3               1                          0   \n",
            "\n",
            "      submit_info_to_email  label  pct_redirect_mean  \n",
            "0                        0      1           0.500000  \n",
            "1                        0      1           0.500000  \n",
            "2                        0      1           0.000000  \n",
            "3                        1      1          -0.500000  \n",
            "4                        0      1          -0.500000  \n",
            "...                    ...    ...                ...  \n",
            "9995                     0      0           0.500000  \n",
            "9996                     0      0           0.564516  \n",
            "9997                     0      0           0.528169  \n",
            "9998                     0      0           0.500000  \n",
            "9999                     0      0           0.502358  \n",
            "\n",
            "[10000 rows x 6 columns]\n"
          ]
        },
        {
          "output_type": "stream",
          "name": "stderr",
          "text": [
            "<ipython-input-29-e756b89f8e72>:2: SettingWithCopyWarning: \n",
            "A value is trying to be set on a copy of a slice from a DataFrame\n",
            "\n",
            "See the caveats in the documentation: https://pandas.pydata.org/pandas-docs/stable/user_guide/indexing.html#returning-a-view-versus-a-copy\n",
            "  my_set.drop(columns=[\"NumDots\", \"pct_null_self_redirect\", \"pct_null_self_redirect_rt\"], inplace=True)\n"
          ]
        }
      ]
    },
    {
      "cell_type": "code",
      "source": [
        "#6. Drop a row(s) from your dataset:\n",
        "my_set.drop(index=[0, 4], inplace=True)\n",
        "my_set.reset_index(inplace=True, drop=True)\n",
        "print(my_set)"
      ],
      "metadata": {
        "id": "UIK-Mtac3TTL",
        "outputId": "9375219a-b1bc-4162-801c-5112a630b601",
        "colab": {
          "base_uri": "https://localhost:8080/"
        }
      },
      "execution_count": 31,
      "outputs": [
        {
          "output_type": "stream",
          "name": "stdout",
          "text": [
            "      num_dashes  insecure_forms  freq_domain_name_mismatch  \\\n",
            "0              0               1                          0   \n",
            "1              1               1                          1   \n",
            "2              1               1                          0   \n",
            "3              0               1                          0   \n",
            "4              1               1                          0   \n",
            "...          ...             ...                        ...   \n",
            "9991           0               1                          0   \n",
            "9992           1               1                          0   \n",
            "9993           0               1                          0   \n",
            "9994           0               1                          0   \n",
            "9995           3               1                          0   \n",
            "\n",
            "      submit_info_to_email  label  pct_redirect_mean  \n",
            "0                        0      1           0.000000  \n",
            "1                        1      1          -0.500000  \n",
            "2                        0      1           0.500000  \n",
            "3                        0      1           0.500000  \n",
            "4                        0      1          -0.012500  \n",
            "...                    ...    ...                ...  \n",
            "9991                     0      0           0.500000  \n",
            "9992                     0      0           0.564516  \n",
            "9993                     0      0           0.528169  \n",
            "9994                     0      0           0.500000  \n",
            "9995                     0      0           0.502358  \n",
            "\n",
            "[9996 rows x 6 columns]\n"
          ]
        },
        {
          "output_type": "stream",
          "name": "stderr",
          "text": [
            "<ipython-input-31-1ab31c3e5bc8>:2: SettingWithCopyWarning: \n",
            "A value is trying to be set on a copy of a slice from a DataFrame\n",
            "\n",
            "See the caveats in the documentation: https://pandas.pydata.org/pandas-docs/stable/user_guide/indexing.html#returning-a-view-versus-a-copy\n",
            "  my_set.drop(index=[0, 4], inplace=True)\n"
          ]
        }
      ]
    },
    {
      "cell_type": "code",
      "source": [
        "#7. Sort your data based on multiple variables:\n",
        "my_set.sort_values(by=[\"pct_redirect_mean\", \"submit_info_to_email\"], ascending=[True, False], inplace=True)\n",
        "print(my_set)"
      ],
      "metadata": {
        "id": "nElsgT5g3TWJ",
        "outputId": "62781498-0761-4cba-e398-d3e89f53dce6",
        "colab": {
          "base_uri": "https://localhost:8080/"
        }
      },
      "execution_count": 34,
      "outputs": [
        {
          "output_type": "stream",
          "name": "stdout",
          "text": [
            "      num_dashes  insecure_forms  freq_domain_name_mismatch  \\\n",
            "1              1               1                          1   \n",
            "190            1               1                          1   \n",
            "1453           1               1                          0   \n",
            "1482           0               1                          1   \n",
            "3854           0               1                          0   \n",
            "...          ...             ...                        ...   \n",
            "7078           6               1                          0   \n",
            "9433           0               1                          0   \n",
            "4940           0               1                          0   \n",
            "9885           0               1                          0   \n",
            "7509           0               1                          0   \n",
            "\n",
            "      submit_info_to_email  label  pct_redirect_mean  \n",
            "1                        1      1          -0.500000  \n",
            "190                      1      1          -0.500000  \n",
            "1453                     1      1          -0.500000  \n",
            "1482                     1      1          -0.500000  \n",
            "3854                     1      1          -0.500000  \n",
            "...                    ...    ...                ...  \n",
            "7078                     1      0           0.630478  \n",
            "9433                     1      0           0.634615  \n",
            "4940                     0      1           0.636364  \n",
            "9885                     0      0           0.637931  \n",
            "7509                     1      0           0.651832  \n",
            "\n",
            "[9996 rows x 6 columns]\n"
          ]
        },
        {
          "output_type": "stream",
          "name": "stderr",
          "text": [
            "<ipython-input-34-8a28a2f2f889>:2: SettingWithCopyWarning: \n",
            "A value is trying to be set on a copy of a slice from a DataFrame\n",
            "\n",
            "See the caveats in the documentation: https://pandas.pydata.org/pandas-docs/stable/user_guide/indexing.html#returning-a-view-versus-a-copy\n",
            "  my_set.sort_values(by=[\"pct_redirect_mean\", \"submit_info_to_email\"], ascending=[True, False], inplace=True)\n"
          ]
        }
      ]
    },
    {
      "cell_type": "code",
      "source": [
        "#8. Filter your data based on some condition:\n",
        "filtered_data = my_set[my_set[\"pct_redirect_mean\"] > 0]\n",
        "print(filtered_data)"
      ],
      "metadata": {
        "id": "9McPOS5p3TYQ",
        "outputId": "84026c9f-de10-4753-eef6-0d31b3cf0641",
        "colab": {
          "base_uri": "https://localhost:8080/"
        }
      },
      "execution_count": 35,
      "outputs": [
        {
          "output_type": "stream",
          "name": "stdout",
          "text": [
            "      num_dashes  insecure_forms  freq_domain_name_mismatch  \\\n",
            "8699           0               1                          0   \n",
            "8478           0               1                          0   \n",
            "7802           0               0                          0   \n",
            "9108           0               1                          0   \n",
            "7855           7               1                          0   \n",
            "...          ...             ...                        ...   \n",
            "7078           6               1                          0   \n",
            "9433           0               1                          0   \n",
            "4940           0               1                          0   \n",
            "9885           0               1                          0   \n",
            "7509           0               1                          0   \n",
            "\n",
            "      submit_info_to_email  label  pct_redirect_mean  \n",
            "8699                     0      0           0.001057  \n",
            "8478                     1      0           0.001114  \n",
            "7802                     0      0           0.001174  \n",
            "9108                     1      0           0.001250  \n",
            "7855                     1      0           0.001299  \n",
            "...                    ...    ...                ...  \n",
            "7078                     1      0           0.630478  \n",
            "9433                     1      0           0.634615  \n",
            "4940                     0      1           0.636364  \n",
            "9885                     0      0           0.637931  \n",
            "7509                     1      0           0.651832  \n",
            "\n",
            "[6627 rows x 6 columns]\n"
          ]
        }
      ]
    },
    {
      "cell_type": "code",
      "source": [
        "#9. Convert all the string values to upper or lower cases in one column:\n",
        "# None of the columns in my set are strings"
      ],
      "metadata": {
        "id": "eQ1TmSoH3f7O"
      },
      "execution_count": 14,
      "outputs": []
    },
    {
      "cell_type": "code",
      "source": [
        "#10. Check whether numeric values are present in a given column of your dataframe:\n",
        "is_numeric_dtype(my_set[\"num_dashes\"])"
      ],
      "metadata": {
        "id": "_j4HioMU3hoM",
        "outputId": "15508fd2-b41d-4d7f-a579-484565170ce9",
        "colab": {
          "base_uri": "https://localhost:8080/"
        }
      },
      "execution_count": 36,
      "outputs": [
        {
          "output_type": "execute_result",
          "data": {
            "text/plain": [
              "True"
            ]
          },
          "metadata": {},
          "execution_count": 36
        }
      ]
    },
    {
      "cell_type": "markdown",
      "source": [
        "It makes the most sense to group by the \"label\" column since it will break down the data based on phishing vs non-phishing websites. We can look at how the number of dashes differs between phishing and non-phishing websites- a lot more for phishing websites from the mean. "
      ],
      "metadata": {
        "id": "VQM6LeFr7G-D"
      }
    },
    {
      "cell_type": "code",
      "source": [
        "#11. Group your dataset by one column, and get the mean, min, and max values by group:\n",
        "grouped_data = my_set.groupby(\"label\")[\"num_dashes\"].describe()\n",
        "print(summary_stats)\n"
      ],
      "metadata": {
        "id": "vd56-Xsi3hwd",
        "outputId": "953da280-7e32-45b4-8ecb-f1f986ef2f7c",
        "colab": {
          "base_uri": "https://localhost:8080/"
        }
      },
      "execution_count": 38,
      "outputs": [
        {
          "output_type": "stream",
          "name": "stdout",
          "text": [
            "              count     mean        std   min   25%   50%   75%    max\n",
            "CLASS_LABEL                                                           \n",
            "0            5000.0  72.7498  30.837837  12.0  51.0  68.0  90.0  218.0\n",
            "1            5000.0  67.7784  35.552610  19.0  46.0  58.0  75.0  253.0\n"
          ]
        }
      ]
    },
    {
      "cell_type": "code",
      "source": [
        "#12. Group your dataset by two columns and then sort the aggregated results within the groups:\n",
        "grouped_data = my_set.groupby([\"label\", \"insecure_forms\"]).describe().sort_values(by=[(\"num_dashes\", \"count\")])\n",
        "print(grouped_data)"
      ],
      "metadata": {
        "id": "tc8oD62-3h0h",
        "outputId": "8a0e27e7-0bbc-45fd-953a-90b6c660ea4b",
        "colab": {
          "base_uri": "https://localhost:8080/"
        }
      },
      "execution_count": 17,
      "outputs": [
        {
          "output_type": "stream",
          "name": "stdout",
          "text": [
            "                     num_dashes                                                \\\n",
            "                          count      mean       std  min  25%  50%  75%   max   \n",
            "label insecure_forms                                                            \n",
            "1     0                   205.0  1.058537  2.125127  0.0  0.0  1.0  1.0  20.0   \n",
            "0     0                  1354.0  2.694239  4.064649  0.0  0.0  1.0  4.0  55.0   \n",
            "      1                  3646.0  3.078168  3.810055  0.0  0.0  1.0  5.0  26.0   \n",
            "1     1                  4793.0  0.645107  1.186257  0.0  0.0  0.0  1.0  15.0   \n",
            "\n",
            "                     pct_null_self_redirect            ...  \\\n",
            "                                      count      mean  ...   \n",
            "label insecure_forms                                   ...   \n",
            "1     0                               205.0  0.333243  ...   \n",
            "0     0                              1354.0  0.028113  ...   \n",
            "      1                              3646.0  0.029389  ...   \n",
            "1     1                              4793.0  0.239479  ...   \n",
            "\n",
            "                     pct_null_self_redirect_rt      pct_redirect_mean  \\\n",
            "                                           75%  max             count   \n",
            "label insecure_forms                                                    \n",
            "1     0                                    1.0  1.0             205.0   \n",
            "0     0                                    1.0  1.0            1354.0   \n",
            "      1                                    1.0  1.0            3646.0   \n",
            "1     1                                    1.0  1.0            4793.0   \n",
            "\n",
            "                                                                             \n",
            "                          mean       std  min  25%  50%       75%       max  \n",
            "label insecure_forms                                                         \n",
            "1     0               0.234914  0.333463 -0.5  0.0  0.5  0.500000  0.600000  \n",
            "0     0               0.403643  0.232960 -0.5  0.5  0.5  0.508830  0.625000  \n",
            "      1               0.418150  0.218709 -0.5  0.5  0.5  0.511565  0.651832  \n",
            "1     1               0.027522  0.421770 -0.5 -0.5  0.0  0.500000  0.636364  \n",
            "\n",
            "[4 rows x 48 columns]\n"
          ]
        }
      ]
    },
    {
      "cell_type": "code",
      "source": [],
      "metadata": {
        "id": "qsC4GApj3rq1"
      },
      "execution_count": 17,
      "outputs": []
    }
  ],
  "metadata": {
    "colab": {
      "provenance": [],
      "include_colab_link": true
    },
    "kernelspec": {
      "display_name": "Python 3",
      "name": "python3"
    }
  },
  "nbformat": 4,
  "nbformat_minor": 0
}